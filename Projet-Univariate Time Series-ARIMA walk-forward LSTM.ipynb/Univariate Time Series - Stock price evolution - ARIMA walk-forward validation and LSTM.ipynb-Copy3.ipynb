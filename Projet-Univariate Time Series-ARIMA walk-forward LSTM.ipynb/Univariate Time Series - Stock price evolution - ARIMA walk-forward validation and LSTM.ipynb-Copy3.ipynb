{
 "cells": [
  {
   "cell_type": "markdown",
   "id": "77b8d144",
   "metadata": {},
   "source": [
    "<hr style=\"border-width:2px;border-color:#75DFC1\">\n",
    "<h1 style = \"text-align:center\">Time Series Forecasting</h1>\n",
    "<h2 style = \"text-align:center\">Univariate time series - Complex study case (no straightforward seasonality/cyclic behaviour, missing dates) - Stock market prediction </h2>\n",
    "\n",
    "<h2 style = \"text-align:center\">LSTM</h2>\n",
    "<h4 style = \"text-align:center\">Didier Law-Hine</h4>\n",
    "<h4 style = \"text-align:center\">August 2022</h4>\n",
    "\n",
    "<hr style=\"border-width:2px;border-color:#75DFC1\">\n",
    "\n",
    "In this notebook, the dataset consists of records about the stock price of Tata Global Beverages Limited. The dataset also contains a date-wise price of stock with open, close, high, and low prices along with volume traded as well as turnover on that day.\n",
    "\n",
    "For LSTM model, I consider the following important parameters to be tuned :\n",
    "- the number of lag $n$ to account for the prediction of  $y_t$ :  $y_{t-1},y_{t-2}, ... , y_{t-n}$. In this notebook, you will see $n$=30.\n",
    "- number of hidden layers and units in each layer. Here, I chose 1 layer of 50 units.\n",
    "- epochs and batch size. Here, typically epochs=80, batch size=20"
   ]
  },
  {
   "cell_type": "code",
   "execution_count": null,
   "id": "7cf2fd86",
   "metadata": {},
   "outputs": [],
   "source": [
    "import pandas as pd\n",
    "import numpy as np\n",
    "import matplotlib.pyplot as plt\n",
    "%matplotlib inline\n",
    "import seaborn as sns\n",
    "\n",
    "from math import sqrt\n",
    "from numpy import concatenate\n",
    "from matplotlib.pylab import rcParams\n",
    "rcParams['figure.figsize']=20,8\n",
    "\n",
    "from sklearn.preprocessing import MinMaxScaler\n",
    "from sklearn.preprocessing import LabelEncoder\n",
    "from sklearn.metrics import mean_squared_error\n",
    "\n",
    "import statsmodels.api as sm\n",
    "import statsmodels.graphics.tsaplots as smgt\n",
    "\n",
    "from keras.models import Sequential\n",
    "from keras.layers import LSTM,Dropout,Dense\n",
    "\n",
    "from pmdarima.arima import auto_arima\n",
    "from sktime.forecasting.arima import AutoARIMA"
   ]
  },
  {
   "cell_type": "code",
   "execution_count": null,
   "id": "79242160",
   "metadata": {},
   "outputs": [],
   "source": [
    "# Load dataset\n",
    "df = pd.read_csv(\"NSE-Tata-Global-Beverages-Limited.csv\")\n",
    "df[\"Date\"]=pd.to_datetime(df.Date,format=\"%Y-%m-%d\")\n",
    "display(df.head())\n",
    "display(df.info())\n",
    "# Dataviz\n",
    "fig,ax1=plt.subplots()\n",
    "ax1=plt.plot(df[\"Date\"],df[\"Close\"],label='Close Price history')"
   ]
  },
  {
   "cell_type": "code",
   "execution_count": null,
   "id": "3be32ee0",
   "metadata": {},
   "outputs": [],
   "source": [
    "# Selecting the time series from the initial dataframe \n",
    "df2=df.sort_values(by=[\"Date\"],ascending=True,axis=0).reset_index(drop=True)\n",
    "df3=pd.DataFrame(index=range(0,len(df2)),columns=['Date','Close'])\n",
    "for i in range(0,len(df3)):\n",
    "    df3[\"Date\"][i]=df2['Date'][i]\n",
    "    df3[\"Close\"][i]=df2[\"Close\"][i]   \n",
    "df3.index=df3.Date\n",
    "df3.drop(\"Date\",axis=1,inplace=True)\n",
    "\n",
    "# Resampling\n",
    "df3=df3.asfreq(freq='D') # This will add rows so that frequency is equal to 1 day. But this will generate NaNs\n",
    "display(df3.head(10))\n",
    "display(df3.shape)\n",
    "# Filling NaNs with interpolating\n",
    "#https://towardsdatascience.com/4-techniques-to-handle-missing-values-in-time-series-data-c3568589b5a8\n",
    "df3=df3.astype('float')\n",
    "df3['Close'].interpolate(inplace=True,limit_direction='forward', axis=0) #default is linear interpolating\n",
    "display(df3.head(10))\n",
    "display(df3.shape)"
   ]
  },
  {
   "cell_type": "code",
   "execution_count": null,
   "id": "5afd372e",
   "metadata": {
    "scrolled": false
   },
   "outputs": [],
   "source": [
    "from statsmodels.tsa.seasonal import seasonal_decompose\n",
    "res = seasonal_decompose(df3,freq=52)\n",
    "res.plot()\n",
    "plt.show()"
   ]
  },
  {
   "cell_type": "code",
   "execution_count": null,
   "id": "170c7aa9",
   "metadata": {},
   "outputs": [],
   "source": [
    "from statsmodels.tsa.seasonal import STL\n",
    "\n",
    "stl = STL(df3, robust=True,period=52)\n",
    "res = stl.fit()\n",
    "fig = res.plot()"
   ]
  },
  {
   "cell_type": "code",
   "execution_count": null,
   "id": "1fd74d47",
   "metadata": {},
   "outputs": [],
   "source": [
    "def tsplot(y, lags=None, figsize=(12, 7)):\n",
    "    \"\"\"\n",
    "        Plot time series, its ACF and PACF, calculate ADF and KPSS tests\n",
    "        y - timeseries\n",
    "        lags - how many lags to include in ACF, PACF calculation\n",
    "    \"\"\"\n",
    "    if not isinstance(y, pd.Series):\n",
    "        y = pd.Series(y)\n",
    "           \n",
    "    fig = plt.figure(figsize=figsize)\n",
    "    layout = (2, 2)\n",
    "    ts_ax = plt.subplot2grid(layout, (0, 0), colspan=2)\n",
    "    acf_ax = plt.subplot2grid(layout, (1, 0))\n",
    "    pacf_ax = plt.subplot2grid(layout, (1, 1))\n",
    "\n",
    "    y.plot(ax=ts_ax)\n",
    "    p_value_ADF = sm.tsa.stattools.adfuller(y)[1]\n",
    "    p_value_KPSS = sm.tsa.stattools.kpss(y)[1]\n",
    "    ts_ax.set_title('Time Series Analysis Plots\\n Dickey-Fuller: p={0:.5f} \\n KPSS: p={1:.5f}'.format(p_value_ADF,p_value_KPSS))\n",
    "    sm.graphics.tsa.plot_acf(y, lags=lags, ax=acf_ax)\n",
    "    sm.graphics.tsa.plot_pacf(y, lags=lags, ax=pacf_ax)\n",
    "    plt.tight_layout()\n",
    "\n",
    "# Plot\n",
    "tsplot(df3[\"Close\"])"
   ]
  },
  {
   "cell_type": "code",
   "execution_count": null,
   "id": "0cd7155b",
   "metadata": {},
   "outputs": [],
   "source": [
    "ts_diff = (df3[\"Close\"] - df3[\"Close\"].shift(1)).dropna()\n",
    "tsplot(ts_diff)"
   ]
  },
  {
   "cell_type": "code",
   "execution_count": null,
   "id": "2c4905ee",
   "metadata": {},
   "outputs": [],
   "source": [
    "model=sm.tsa.SARIMAX(df3[0:1461],order=(1,1,0),seasonal_order=(1,2,0,12))\n",
    "sarima=model.fit()\n",
    "print(sarima.summary())"
   ]
  },
  {
   "cell_type": "code",
   "execution_count": null,
   "id": "1332a4f0",
   "metadata": {},
   "outputs": [],
   "source": [
    "from datetime import datetime, timedelta\n",
    "t1 = datetime(2018,1,1)\n",
    "t2 = datetime(2018,12,20)\n",
    "pred = sarima.predict(t1,t2)\n",
    "concatpred = pd.concat([df3, pred])#Concaténation des prédictions\n",
    "\n",
    "plt.plot(concatpred) #Visualisation\n"
   ]
  },
  {
   "cell_type": "code",
   "execution_count": null,
   "id": "69acaf89",
   "metadata": {},
   "outputs": [],
   "source": [
    "print(t1)\n",
    "print(df3.iloc[1234])"
   ]
  },
  {
   "cell_type": "code",
   "execution_count": null,
   "id": "9aa20b57",
   "metadata": {},
   "outputs": [],
   "source": [
    "df3.shape"
   ]
  },
  {
   "cell_type": "code",
   "execution_count": null,
   "id": "48231a0e",
   "metadata": {
    "scrolled": true
   },
   "outputs": [],
   "source": [
    "df3.info()"
   ]
  },
  {
   "cell_type": "code",
   "execution_count": null,
   "id": "2e0496b6",
   "metadata": {},
   "outputs": [],
   "source": [
    "1827*0.8"
   ]
  },
  {
   "cell_type": "code",
   "execution_count": null,
   "id": "fdab3908",
   "metadata": {
    "scrolled": true
   },
   "outputs": [],
   "source": [
    "from pmdarima.arima import auto_arima\n",
    "train=df3[0:1461].astype(float)\n",
    "test=df3[1461:1827].astype(float)\n",
    "model = auto_arima(y=train,D=1,d=1, error_action='ignore', suppress_warnings=True)\n",
    "model.fit(train)\n",
    "display(model.summary())\n",
    "forecast = model.predict(n_periods=len(test))\n",
    "forecast = pd.DataFrame(forecast,index = test.index,columns=['Prediction'])\n",
    "\n",
    "#plot the predictions for validation set\n",
    "plt.plot(train, label='Train')\n",
    "plt.plot(test, label='Valid')\n",
    "plt.plot(forecast, label='Prediction')\n",
    "plt.show()"
   ]
  },
  {
   "cell_type": "code",
   "execution_count": null,
   "id": "7db4652a",
   "metadata": {},
   "outputs": [],
   "source": [
    "train=df3[0:1461].astype(float)\n",
    "test=df3[1461:1827].astype(float)\n",
    "\n",
    "# Fit two different ARIMAs\n",
    "m7 = auto_arima(train, error_action='ignore', seasonal=True,d=1, m=7)\n",
    "m12 = auto_arima(train, error_action='ignore', seasonal=True, d=1, m=52)\n",
    "\n",
    "fig, axes = plt.subplots(1, 2, figsize=(12, 8))\n",
    "x = np.arange(test.shape[0])\n",
    "\n",
    "# Plot m=1\n",
    "axes[0].scatter(x, test, marker='x')\n",
    "axes[0].plot(x, m7.predict(n_periods=test.shape[0]))\n",
    "axes[0].set_title('Test samples vs. forecasts (m=7)')\n",
    "\n",
    "# Plot m=12\n",
    "axes[1].scatter(x, test, marker='x')\n",
    "axes[1].plot(x, m12.predict(n_periods=test.shape[0]))\n",
    "axes[1].set_title('Test samples vs. forecasts (m=12)')\n"
   ]
  },
  {
   "cell_type": "code",
   "execution_count": null,
   "id": "92ef3150",
   "metadata": {},
   "outputs": [],
   "source": [
    "from sktime.forecasting.arima import AutoARIMA\n",
    "train=df3[0:1461].astype(float)\n",
    "test=df3[1461:1827].astype(float)\n",
    "forecaster = AutoARIMA(D=1,start_p=1, max_p=2, suppress_warnings=True)\n",
    "train.index = train.index.astype(int)\n",
    "forecaster.fit(train)\n",
    "forecaster.summary()\n",
    "\n",
    "from sklearn.metrics import mean_absolute_error\n",
    "from sklearn.metrics import mean_absolute_percentage_error\n",
    "\n",
    "def plot_forecast(series_train, series_test, forecast, forecast_int=None):\n",
    "\n",
    "    mae = mean_absolute_error(series_test, forecast)\n",
    "    mape = mean_absolute_percentage_error(series_test, forecast)\n",
    "\n",
    "    plt.figure(figsize=(12, 6))\n",
    "    plt.title(f\"MAE: {mae:.2f}, MAPE: {mape:.3f}\", size=18)\n",
    "    series_train.plot(label=\"train\", color=\"b\")\n",
    "    series_test.plot(label=\"test\", color=\"g\")\n",
    "    forecast.index = series_test.index\n",
    "    forecast.plot(label=\"forecast\", color=\"r\")\n",
    "    if forecast_int is not None:\n",
    "        plt.fill_between(\n",
    "            series_test.index,\n",
    "            forecast_int[\"lower\"],\n",
    "            forecast_int[\"upper\"],\n",
    "            alpha=0.2,\n",
    "            color=\"dimgray\",\n",
    "        )\n",
    "    plt.legend(prop={\"size\": 16})\n",
    "    plt.show()\n",
    "\n",
    "    return mae, mape\n",
    "\n",
    "\n",
    "t1 = datetime(2018,1,1)\n",
    "t2 = datetime(2018,12,20)\n",
    "fh =pd.to_datetime(np.arange(t1, t2, timedelta(days=1)).astype(datetime))\n",
    "X=test\n",
    "forecast, forecast_int = forecaster.predict([fh, X])\n",
    "sun_arima_mae, sun_arima_mape = plot_forecast(\n",
    "    train, test, forecast, forecast_int\n",
    ")"
   ]
  },
  {
   "cell_type": "code",
   "execution_count": null,
   "id": "bd553af3",
   "metadata": {},
   "outputs": [],
   "source": [
    "fh"
   ]
  },
  {
   "cell_type": "code",
   "execution_count": null,
   "id": "02e19af2",
   "metadata": {},
   "outputs": [],
   "source": []
  },
  {
   "cell_type": "code",
   "execution_count": null,
   "id": "1441ad61",
   "metadata": {},
   "outputs": [],
   "source": [
    "## Preparing data for LSTM\n",
    "# Convert series to supervised learning\n",
    "def series_to_supervised(data, n_in=1, n_out=1, dropnan=True):\n",
    "    n_vars = 1 if type(data) is list else data.shape[1]\n",
    "    df = pd.DataFrame(data)\n",
    "    cols, names = list(), list()\n",
    "    # input sequence (t-n, ... t-1)\n",
    "    for i in range(n_in, 0, -1):\n",
    "        cols.append(df.shift(i))\n",
    "        names += [('var%d(t-%d)' % (j+1, i)) for j in range(n_vars)]\n",
    "    # forecast sequence (t, t+1, ... t+n)\n",
    "    for i in range(0, n_out):\n",
    "        cols.append(df.shift(-i))\n",
    "        if i == 0:\n",
    "            names += [('var%d(t)' % (j+1)) for j in range(n_vars)]\n",
    "        else:\n",
    "            names += [('var%d(t+%d)' % (j+1, i)) for j in range(n_vars)]\n",
    "    # put it all together\n",
    "    agg = pd.concat(cols, axis=1)\n",
    "    agg.columns = names\n",
    "    # drop rows with NaN values\n",
    "    if dropnan:\n",
    "        agg.dropna(inplace=True)\n",
    "    return agg\n",
    "\n",
    "# Selecting the time series from the initial dataframe --> called 'values' (np.array)\n",
    "values=df3.values\n",
    "display(values.shape)\n",
    "# integer encode direction\n",
    "##encoder = LabelEncoder()\n",
    "##values[:,4] = encoder.fit_transform(values[:,4])\n",
    "# ensure all data is float\n",
    "values = values.astype('float32')\n",
    "# normalize features\n",
    "scaler = MinMaxScaler(feature_range=(0, 1))\n",
    "scaled = scaler.fit_transform(values)\n",
    "# specify the number of lag hours\n",
    "n_days = 30\n",
    "n_features = 1\n",
    "# frame as supervised learning\n",
    "reframed = series_to_supervised(scaled, n_days, 1)\n",
    "print(reframed.head())\n",
    "print(reframed.shape)\n",
    "\n",
    "# split into train and test sets\n",
    "values = reframed.values\n",
    "n_train_days = 987\n",
    "train = values[:n_train_days, :]\n",
    "test = values[n_train_days:, :]\n",
    "# split into input and outputs\n",
    "n_obs = n_days * n_features\n",
    "X_train, y_train = train[:, :n_obs], train[:, -n_features]\n",
    "X_test, y_test = test[:, :n_obs], test[:, -n_features]\n",
    "print(X_train.shape, len(X_train), y_train.shape)\n",
    "# reshape input to be 3D [samples, timesteps, features]\n",
    "X_train = X_train.reshape((X_train.shape[0], n_days, n_features))\n",
    "X_test = X_test.reshape((X_test.shape[0], n_days, n_features))\n",
    "print(X_train.shape, y_train.shape, X_test.shape, y_test.shape)"
   ]
  },
  {
   "cell_type": "code",
   "execution_count": null,
   "id": "9145ef72",
   "metadata": {
    "scrolled": true
   },
   "outputs": [],
   "source": [
    "## Model : LSTM(50),Dense(1)\n",
    "# design network\n",
    "model = Sequential()\n",
    "model.add(LSTM(50, input_shape=(X_train.shape[1], X_train.shape[2])))\n",
    "model.add(Dense(1))\n",
    "model.compile(loss='mae', optimizer='adam')\n",
    "# fit network\n",
    "history = model.fit(X_train, y_train, epochs=80, batch_size=20, validation_data=(X_test, y_test), verbose=2, shuffle=False)\n",
    "# plot history\n",
    "plt.plot(history.history['loss'], label='train')\n",
    "plt.plot(history.history['val_loss'], label='test')\n",
    "plt.legend()\n",
    "plt.show()"
   ]
  },
  {
   "cell_type": "code",
   "execution_count": null,
   "id": "d1d99568",
   "metadata": {
    "scrolled": true
   },
   "outputs": [],
   "source": [
    "# Make a prediction\n",
    "yhat = model.predict(X_test)\n",
    "X_test = X_test.reshape((X_test.shape[0], X_test.shape[1]))\n",
    "# invert scaling for forecast\n",
    "inv_yhat = concatenate((yhat, X_test[:, - n_features -1:]), axis=1)\n",
    "inv_yhat = scaler.inverse_transform(inv_yhat)\n",
    "inv_yhat = inv_yhat[:,0]\n",
    "# invert scaling for actual\n",
    "y_test = y_test.reshape((len(y_test), 1))\n",
    "inv_y = concatenate((y_test, X_test[:, - n_features -1:]), axis=1)\n",
    "inv_y = scaler.inverse_transform(inv_y)\n",
    "inv_y = inv_y[:,0]\n",
    "\n",
    "# calculate RMSE\n",
    "rmse = sqrt(mean_squared_error(inv_y, inv_yhat))\n",
    "print('Test RMSE: %.3f' % rmse)\n",
    "\n",
    "# Plot prediction\n",
    "df_values=df3.Close\n",
    "d = {'train': df_values, 'test': pd.Series(inv_yhat, index=df_values.index[np.arange(n_train_days+n_days,len(df_values))])}\n",
    "df_plot=pd.DataFrame(data=d, index=df3.index)\n",
    "plt.figure();\n",
    "plt.plot(df_plot);\n"
   ]
  }
 ],
 "metadata": {
  "kernelspec": {
   "display_name": "Python 3 (ipykernel)",
   "language": "python",
   "name": "python3"
  },
  "language_info": {
   "codemirror_mode": {
    "name": "ipython",
    "version": 3
   },
   "file_extension": ".py",
   "mimetype": "text/x-python",
   "name": "python",
   "nbconvert_exporter": "python",
   "pygments_lexer": "ipython3",
   "version": "3.9.7"
  }
 },
 "nbformat": 4,
 "nbformat_minor": 5
}
